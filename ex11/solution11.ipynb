{
 "cells": [
  {
   "cell_type": "markdown",
   "metadata": {},
   "source": [
    "Exercise Sheet 11 **Bayesian Networks for Inference**"
   ]
  },
  {
   "cell_type": "code",
   "execution_count": 1,
   "metadata": {},
   "outputs": [],
   "source": [
    "from pgmpy.models import BayesianModel\n",
    "from pgmpy.factors.discrete import TabularCPD\n",
    "from pgmpy.inference import VariableElimination\n",
    "\n",
    "import warnings\n",
    "warnings.filterwarnings(\"ignore\")"
   ]
  },
  {
   "cell_type": "markdown",
   "metadata": {},
   "source": [
    "**11.2: Software**"
   ]
  },
  {
   "cell_type": "markdown",
   "metadata": {},
   "source": [
    "**NOTE**  \n",
    "in the probability tables, probabilities ending with \"_ 0\" are true and those ending with \"_ 1\" are considered false..."
   ]
  },
  {
   "cell_type": "code",
   "execution_count": 2,
   "metadata": {},
   "outputs": [],
   "source": [
    "# Starting with defining the network structure\n",
    "wet_model = BayesianModel([('Cloudy', 'Sprinkler'), \n",
    "                              ('Cloudy', 'Rain'),\n",
    "                              ('Sprinkler', 'WetGrass'),\n",
    "                              ('Rain', 'WetGrass')])"
   ]
  },
  {
   "cell_type": "code",
   "execution_count": 3,
   "metadata": {},
   "outputs": [],
   "source": [
    "# defining the parameters\n",
    "cpd_cloudy = TabularCPD(variable='Cloudy',\n",
    "                        variable_card=2,\n",
    "                        values=[[0.5], [0.5]])\n",
    "\n",
    "cpd_sprinkler_cloudy = TabularCPD(variable='Sprinkler',\n",
    "                        variable_card=2,\n",
    "                        values=[[0.1, 0.5],[0.9, 0.5]],\n",
    "                        evidence=['Cloudy'],\n",
    "                        evidence_card=[2])\n",
    "\n",
    "cpd_rain_cloudy = TabularCPD(variable='Rain',\n",
    "                        variable_card=2,\n",
    "                        values=[[0.8, 0.2],[0.2, 0.8]],\n",
    "                        evidence=['Cloudy'],\n",
    "                        evidence_card=[2])\n",
    "\n",
    "cpd_wetgrass_sprinkler_rain = TabularCPD(variable='WetGrass',\n",
    "                        variable_card=2,\n",
    "                        values=[[0.99, 0.9, 0.9, 0], [0.01, 0.1, 0.1, 1]],\n",
    "                        evidence=['Sprinkler','Rain'],\n",
    "                        evidence_card=[2,2])\n"
   ]
  },
  {
   "cell_type": "code",
   "execution_count": 4,
   "metadata": {},
   "outputs": [
    {
     "name": "stdout",
     "output_type": "stream",
     "text": [
      "True\n"
     ]
    },
    {
     "data": {
      "text/plain": [
       "(Cloudy _|_ WetGrass | Sprinkler, Rain)\n",
       "(Sprinkler _|_ Rain | Cloudy)\n",
       "(Rain _|_ Sprinkler | Cloudy)\n",
       "(WetGrass _|_ Cloudy | Sprinkler, Rain)"
      ]
     },
     "execution_count": 4,
     "metadata": {},
     "output_type": "execute_result"
    }
   ],
   "source": [
    "# Checking the model\n",
    "wet_model.add_cpds(cpd_cloudy,\n",
    "                  cpd_sprinkler_cloudy,\n",
    "                  cpd_rain_cloudy,\n",
    "                  cpd_wetgrass_sprinkler_rain)\n",
    "\n",
    "print(wet_model.check_model())\n",
    "\n",
    "wet_model.get_independencies()"
   ]
  },
  {
   "cell_type": "code",
   "execution_count": 5,
   "metadata": {},
   "outputs": [],
   "source": [
    "# inference\n",
    "wet_infer = VariableElimination(wet_model)"
   ]
  },
  {
   "cell_type": "code",
   "execution_count": 21,
   "metadata": {},
   "outputs": [
    {
     "name": "stdout",
     "output_type": "stream",
     "text": [
      "prob. wet grass:\n",
      " +------------+-----------------+\n",
      "| WetGrass   |   phi(WetGrass) |\n",
      "+============+=================+\n",
      "| WetGrass_0 |          0.6471 |\n",
      "+------------+-----------------+\n",
      "| WetGrass_1 |          0.3529 |\n",
      "+------------+-----------------+\n"
     ]
    }
   ],
   "source": [
    "# probability distributions\n",
    "p_rain = wet_infer.query(variables=['WetGrass'])\n",
    "print('prob. wet grass:\\n',p_rain['WetGrass'])"
   ]
  },
  {
   "cell_type": "code",
   "execution_count": 22,
   "metadata": {},
   "outputs": [
    {
     "name": "stdout",
     "output_type": "stream",
     "text": [
      "prob. sprinkler if grass is wet:\n",
      " +-------------+------------------+\n",
      "| Sprinkler   |   phi(Sprinkler) |\n",
      "+=============+==================+\n",
      "| Sprinkler_0 |           0.4298 |\n",
      "+-------------+------------------+\n",
      "| Sprinkler_1 |           0.5702 |\n",
      "+-------------+------------------+\n"
     ]
    }
   ],
   "source": [
    "p_sprinkler_if_wet = wet_infer.query(variables=['Sprinkler'],\n",
    "                                     evidence={'WetGrass': 0})\n",
    "print('prob. sprinkler if grass is wet:\\n',\n",
    "      p_sprinkler_if_wet['Sprinkler'])"
   ]
  },
  {
   "cell_type": "code",
   "execution_count": 23,
   "metadata": {},
   "outputs": [
    {
     "name": "stdout",
     "output_type": "stream",
     "text": [
      "prob. rain if grass is wet:\n",
      " +--------+-------------+\n",
      "| Rain   |   phi(Rain) |\n",
      "+========+=============+\n",
      "| Rain_0 |      0.7079 |\n",
      "+--------+-------------+\n",
      "| Rain_1 |      0.2921 |\n",
      "+--------+-------------+\n"
     ]
    }
   ],
   "source": [
    "p_sprinkler_if_wet = wet_infer.query(variables=['Rain'],\n",
    "                                     evidence={'WetGrass': 0})\n",
    "print('prob. rain if grass is wet:\\n',\n",
    "      p_sprinkler_if_wet['Rain'])"
   ]
  },
  {
   "cell_type": "markdown",
   "metadata": {},
   "source": [
    "**Exercise H11.3: Construction of a DAG**  \n",
    "*(b)*"
   ]
  },
  {
   "cell_type": "code",
   "execution_count": 11,
   "metadata": {},
   "outputs": [],
   "source": [
    "# defining the model\n",
    "dag_model = BayesianModel([('Burglary', 'Alarm'), \n",
    "                              ('Earthquake', 'Alarm'),\n",
    "                              ('Earthquake', 'Radio')])\n",
    "\n",
    "# defining the parameters\n",
    "cpd_B = TabularCPD(variable='Burglary',\n",
    "                        variable_card=2,\n",
    "                        values=[[0.01], [0.99]])\n",
    "\n",
    "cpd_E = TabularCPD(variable='Earthquake',\n",
    "                        variable_card=2,\n",
    "                        values=[[1e-6], [1-1e-6]])\n",
    "\n",
    "cpd_R_E = TabularCPD(variable='Radio',\n",
    "                        variable_card=2,\n",
    "                        values=[[1, 0],[0, 1]],\n",
    "                        evidence=['Earthquake'],\n",
    "                        evidence_card=[2])\n",
    "\n",
    "cpd_A_B_E = TabularCPD(variable='Alarm',\n",
    "                        variable_card=2,\n",
    "                        values=[[0.98, 0.95, 0.41, 0.001], [0.02, 0.05, 0.59, 0.999]],\n",
    "                        evidence=['Burglary', 'Earthquake'],\n",
    "                        evidence_card=[2,2])\n",
    "\n"
   ]
  },
  {
   "cell_type": "code",
   "execution_count": 12,
   "metadata": {},
   "outputs": [
    {
     "name": "stdout",
     "output_type": "stream",
     "text": [
      "True\n"
     ]
    },
    {
     "data": {
      "text/plain": [
       "(Burglary _|_ Radio, Earthquake)\n",
       "(Burglary _|_ Earthquake | Radio)\n",
       "(Burglary _|_ Radio | Earthquake)\n",
       "(Burglary _|_ Radio | Alarm, Earthquake)\n",
       "(Alarm _|_ Radio | Earthquake)\n",
       "(Alarm _|_ Radio | Earthquake, Burglary)\n",
       "(Earthquake _|_ Burglary)\n",
       "(Earthquake _|_ Burglary | Radio)\n",
       "(Radio _|_ Burglary)\n",
       "(Radio _|_ Alarm, Burglary | Earthquake)\n",
       "(Radio _|_ Burglary | Alarm, Earthquake)\n",
       "(Radio _|_ Alarm | Earthquake, Burglary)"
      ]
     },
     "execution_count": 12,
     "metadata": {},
     "output_type": "execute_result"
    }
   ],
   "source": [
    "# Checking the model\n",
    "dag_model.add_cpds(cpd_B,\n",
    "                  cpd_E,\n",
    "                  cpd_R_E,\n",
    "                  cpd_A_B_E)\n",
    "\n",
    "print(dag_model.check_model())\n",
    "\n",
    "dag_model.get_independencies()"
   ]
  },
  {
   "cell_type": "code",
   "execution_count": 15,
   "metadata": {},
   "outputs": [],
   "source": [
    "# inference\n",
    "dag_infer = VariableElimination(dag_model)"
   ]
  },
  {
   "cell_type": "code",
   "execution_count": 24,
   "metadata": {},
   "outputs": [
    {
     "name": "stdout",
     "output_type": "stream",
     "text": [
      "prob. of alarm:\n",
      " +---------+--------------+\n",
      "| Alarm   |   phi(Alarm) |\n",
      "+=========+==============+\n",
      "| Alarm_0 |       0.0105 |\n",
      "+---------+--------------+\n",
      "| Alarm_1 |       0.9895 |\n",
      "+---------+--------------+\n"
     ]
    }
   ],
   "source": [
    "# probability distributions\n",
    "p_alarm = dag_infer.query(variables=['Alarm'])\n",
    "print('prob. of alarm:\\n',\n",
    "      p_alarm['Alarm'])"
   ]
  },
  {
   "cell_type": "code",
   "execution_count": 25,
   "metadata": {},
   "outputs": [
    {
     "name": "stdout",
     "output_type": "stream",
     "text": [
      "prob. alarm if radio:\n",
      " +---------+--------------+\n",
      "| Alarm   |   phi(Alarm) |\n",
      "+=========+==============+\n",
      "| Alarm_0 |       0.4157 |\n",
      "+---------+--------------+\n",
      "| Alarm_1 |       0.5843 |\n",
      "+---------+--------------+\n"
     ]
    }
   ],
   "source": [
    "p_A_if_R = dag_infer.query(variables=['Alarm'],\n",
    "                           evidence={'Radio': 0})\n",
    "print('prob. alarm if radio:\\n',\n",
    "      p_A_if_R['Alarm'])"
   ]
  },
  {
   "cell_type": "code",
   "execution_count": 26,
   "metadata": {},
   "outputs": [
    {
     "name": "stdout",
     "output_type": "stream",
     "text": [
      "prob. burglary if alarm:\n",
      " +------------+-----------------+\n",
      "| Burglary   |   phi(Burglary) |\n",
      "+============+=================+\n",
      "| Burglary_0 |          0.9056 |\n",
      "+------------+-----------------+\n",
      "| Burglary_1 |          0.0944 |\n",
      "+------------+-----------------+\n"
     ]
    }
   ],
   "source": [
    "p_B_if_A = dag_infer.query(variables=['Burglary'],\n",
    "                           evidence={'Alarm': 0})\n",
    "print('prob. burglary if alarm:\\n',\n",
    "      p_B_if_A['Burglary'])"
   ]
  },
  {
   "cell_type": "code",
   "execution_count": 27,
   "metadata": {},
   "outputs": [
    {
     "name": "stdout",
     "output_type": "stream",
     "text": [
      "prob. burglary if alarm and radio:\n",
      " +------------+-----------------+\n",
      "| Burglary   |   phi(Burglary) |\n",
      "+============+=================+\n",
      "| Burglary_0 |          0.0236 |\n",
      "+------------+-----------------+\n",
      "| Burglary_1 |          0.9764 |\n",
      "+------------+-----------------+\n"
     ]
    }
   ],
   "source": [
    "p_B_if_A_and_R = dag_infer.query(variables=['Burglary'],\n",
    "                           evidence={'Alarm': 0, 'Radio': 0})\n",
    "print('prob. burglary if alarm and radio:\\n',\n",
    "      p_B_if_A_and_R['Burglary'])"
   ]
  },
  {
   "cell_type": "markdown",
   "metadata": {},
   "source": [
    "#### 11.3 (C)"
   ]
  },
  {
   "cell_type": "markdown",
   "metadata": {},
   "source": [
    "'Explaining Away' stipulates that confirmation of one posterior event *A* reduces the need to look for the occurrence of other events, which alongside *A* are parents to an observed event."
   ]
  },
  {
   "cell_type": "code",
   "execution_count": null,
   "metadata": {},
   "outputs": [],
   "source": []
  }
 ],
 "metadata": {
  "kernelspec": {
   "display_name": "Python 3",
   "language": "python",
   "name": "python3"
  },
  "language_info": {
   "codemirror_mode": {
    "name": "ipython",
    "version": 3
   },
   "file_extension": ".py",
   "mimetype": "text/x-python",
   "name": "python",
   "nbconvert_exporter": "python",
   "pygments_lexer": "ipython3",
   "version": "3.8.2"
  }
 },
 "nbformat": 4,
 "nbformat_minor": 2
}
