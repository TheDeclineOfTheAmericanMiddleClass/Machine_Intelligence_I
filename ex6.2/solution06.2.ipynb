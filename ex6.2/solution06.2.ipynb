{
 "cells": [
  {
   "cell_type": "markdown",
   "metadata": {},
   "source": [
    "Exercise Sheet 6.2 **Long short-term memory (LSTM)**"
   ]
  },
  {
   "cell_type": "code",
   "execution_count": null,
   "metadata": {
    "scrolled": true
   },
   "outputs": [],
   "source": [
    "import numpy as np\n",
    "from keras import Sequential\n",
    "from keras.callbacks import Callback\n",
    "from keras import layers\n",
    "from keras import optimizers\n",
    "import matplotlib.pyplot as plt\n"
   ]
  },
  {
   "cell_type": "code",
   "execution_count": 2,
   "metadata": {},
   "outputs": [],
   "source": [
    "class LogHistory(Callback):\n",
    "    def on_train_begin(self, logs={}):\n",
    "        self.acc = []\n",
    "        self.loss = []\n",
    "\n",
    "    def on_batch_end(self, batch, logs={}):\n",
    "        self.acc.append(logs.get('acc'))\n",
    "        self.loss.append(logs.get('loss'))\n"
   ]
  },
  {
   "cell_type": "code",
   "execution_count": 3,
   "metadata": {},
   "outputs": [],
   "source": [
    "def input_maker():\n",
    "    # input data and labels setup as a natural selection\n",
    "    input_data = np.random.randint(low=0, high=10, size=(10000, 1, 30))\n",
    "    true_labels = np.array([np.sum(input_data, axis=2) >= 100]).astype(int)[0, :, 0].T\n",
    "\n",
    "    # slicing for training and validation\n",
    "    training_input = input_data[0:8000, :, :]\n",
    "    validation_input = input_data[8000:, :, :]\n",
    "    training_labels = true_labels[0:8000]\n",
    "    validation_labels = true_labels[8000:]\n",
    "\n",
    "    # checking the ratios\n",
    "    i_number_of_ones = np.count_nonzero(true_labels)\n",
    "    print('Number of series which add up to 100 or more = %d' % i_number_of_ones)\n",
    "    i_number_of_zeros = len(true_labels) - i_number_of_ones\n",
    "    print('Number of series which add up to less than 100 = %d' % i_number_of_zeros)\n",
    "    i_ratio = i_number_of_ones / i_number_of_zeros\n",
    "    print('the ratio of ones to zeroes in the labels = %d' % int(i_ratio))\n",
    "\n",
    "    return training_input, validation_input, training_labels, validation_labels\n"
   ]
  },
  {
   "cell_type": "code",
   "execution_count": 4,
   "metadata": {},
   "outputs": [],
   "source": [
    "\n",
    "def input_maker_rnd():\n",
    "    # a bad implementation of random selection of series\n",
    "    input_data = np.zeros((10000, 1, 30))\n",
    "    i = 0\n",
    "    while i < 5000:\n",
    "        temp_array = np.random.randint(low=0, high=10, size=(1, 1, 30))\n",
    "        if np.sum(temp_array) >= 100:\n",
    "            input_data[i,0,:] = temp_array\n",
    "            i+=1\n",
    "    while i < 10000:\n",
    "        temp_array = np.random.randint(low=0, high=10, size=(1, 1, 30))\n",
    "        if np.sum(temp_array) < 100:\n",
    "            input_data[i,0,:] = temp_array\n",
    "            i+=1\n",
    "    np.random.shuffle(input_data)\n",
    "\n",
    "    # true labels\n",
    "    true_labels = np.array([np.sum(input_data, axis=2) >= 100]).astype(int)[0,:,0].T\n",
    "\n",
    "    # checking the ratios\n",
    "    i_number_of_ones = np.count_nonzero(true_labels)\n",
    "    print('Number of series which add up to 100 or more = %d' % i_number_of_ones)\n",
    "    i_number_of_zeros = len(true_labels) - i_number_of_ones\n",
    "    print('Number of series which add up to less than 100 = %d' % i_number_of_zeros)\n",
    "    i_ratio = i_number_of_ones / i_number_of_zeros\n",
    "    print('the ratio of ones to zeroes in the labels = %d' % int(i_ratio))\n",
    "\n",
    "    # slicing for training and validation\n",
    "    training_input = input_data[0:8000, :, :]\n",
    "    validation_input = input_data[8000:, :, :]\n",
    "    training_labels = true_labels[0:8000]\n",
    "    validation_labels = true_labels[8000:]\n",
    "\n",
    "    return training_input, validation_input, training_labels, validation_labels\n"
   ]
  },
  {
   "cell_type": "code",
   "execution_count": 5,
   "metadata": {},
   "outputs": [
    {
     "name": "stdout",
     "output_type": "stream",
     "text": [
      "Number of series which add up to 100 or more = 9874\n",
      "Number of series which add up to less than 100 = 126\n",
      "the ratio of ones to zeroes in the labels = 78\n"
     ]
    }
   ],
   "source": [
    "# creating the random inputs\n",
    "training_input, validation_input, training_labels, validation_labels = input_maker()\n"
   ]
  },
  {
   "cell_type": "code",
   "execution_count": 6,
   "metadata": {},
   "outputs": [],
   "source": [
    "# defining the model\n",
    "model = Sequential()\n",
    "\n",
    "model.add(layers.LSTM(units=200,\n",
    "                      activation='tanh',\n",
    "                      recurrent_activation='hard_sigmoid',\n",
    "                      use_bias=True,\n",
    "                      unit_forget_bias=True))\n",
    "\n",
    "model.add(layers.Dropout(0.5))\n",
    "\n",
    "model.add(layers.Dense(1, activation='sigmoid'))\n"
   ]
  },
  {
   "cell_type": "code",
   "execution_count": 7,
   "metadata": {},
   "outputs": [
    {
     "name": "stdout",
     "output_type": "stream",
     "text": [
      "Train on 8000 samples, validate on 2000 samples\n",
      "Epoch 1/60\n",
      "8000/8000 [==============================] - 4s 510us/step - loss: 0.0651 - binary_accuracy: 0.9868 - val_loss: 0.0573 - val_binary_accuracy: 0.9860\n",
      "Epoch 2/60\n",
      "8000/8000 [==============================] - 2s 222us/step - loss: 0.0488 - binary_accuracy: 0.9878 - val_loss: 0.0584 - val_binary_accuracy: 0.9860\n",
      "Epoch 3/60\n",
      "8000/8000 [==============================] - 2s 245us/step - loss: 0.0446 - binary_accuracy: 0.9878 - val_loss: 0.0515 - val_binary_accuracy: 0.9860\n",
      "Epoch 4/60\n",
      "8000/8000 [==============================] - 2s 275us/step - loss: 0.0402 - binary_accuracy: 0.9880 - val_loss: 0.0506 - val_binary_accuracy: 0.9860\n",
      "Epoch 5/60\n",
      "8000/8000 [==============================] - 2s 229us/step - loss: 0.0372 - binary_accuracy: 0.9880 - val_loss: 0.0477 - val_binary_accuracy: 0.9860\n",
      "Epoch 6/60\n",
      "8000/8000 [==============================] - 2s 290us/step - loss: 0.0356 - binary_accuracy: 0.9884 - val_loss: 0.0463 - val_binary_accuracy: 0.9860\n",
      "Epoch 7/60\n",
      "8000/8000 [==============================] - 2s 308us/step - loss: 0.0305 - binary_accuracy: 0.9898 - val_loss: 0.0497 - val_binary_accuracy: 0.9860\n",
      "Epoch 8/60\n",
      "8000/8000 [==============================] - 2s 236us/step - loss: 0.0292 - binary_accuracy: 0.9895 - val_loss: 0.0430 - val_binary_accuracy: 0.9860\n",
      "Epoch 9/60\n",
      "8000/8000 [==============================] - 2s 226us/step - loss: 0.0257 - binary_accuracy: 0.9901 - val_loss: 0.0423 - val_binary_accuracy: 0.9865\n",
      "Epoch 10/60\n",
      "8000/8000 [==============================] - 2s 228us/step - loss: 0.0251 - binary_accuracy: 0.9915 - val_loss: 0.0423 - val_binary_accuracy: 0.9870\n",
      "Epoch 11/60\n",
      "8000/8000 [==============================] - 2s 228us/step - loss: 0.0208 - binary_accuracy: 0.9928 - val_loss: 0.0463 - val_binary_accuracy: 0.9860\n",
      "Epoch 12/60\n",
      "8000/8000 [==============================] - 2s 230us/step - loss: 0.0209 - binary_accuracy: 0.9921 - val_loss: 0.0397 - val_binary_accuracy: 0.9865\n",
      "Epoch 13/60\n",
      "8000/8000 [==============================] - 2s 220us/step - loss: 0.0204 - binary_accuracy: 0.9931 - val_loss: 0.0436 - val_binary_accuracy: 0.9860\n",
      "Epoch 14/60\n",
      "8000/8000 [==============================] - 2s 248us/step - loss: 0.0193 - binary_accuracy: 0.9930 - val_loss: 0.0375 - val_binary_accuracy: 0.9870\n",
      "Epoch 15/60\n",
      "8000/8000 [==============================] - 3s 313us/step - loss: 0.0181 - binary_accuracy: 0.9934 - val_loss: 0.0420 - val_binary_accuracy: 0.9865\n",
      "Epoch 16/60\n",
      "8000/8000 [==============================] - 3s 314us/step - loss: 0.0161 - binary_accuracy: 0.9940 - val_loss: 0.0378 - val_binary_accuracy: 0.9875\n",
      "Epoch 17/60\n",
      "8000/8000 [==============================] - 3s 344us/step - loss: 0.0141 - binary_accuracy: 0.9948 - val_loss: 0.0390 - val_binary_accuracy: 0.9870\n",
      "Epoch 18/60\n",
      "8000/8000 [==============================] - 3s 322us/step - loss: 0.0159 - binary_accuracy: 0.9945 - val_loss: 0.0378 - val_binary_accuracy: 0.9875\n",
      "Epoch 19/60\n",
      "8000/8000 [==============================] - 2s 266us/step - loss: 0.0137 - binary_accuracy: 0.9948 - val_loss: 0.0457 - val_binary_accuracy: 0.9865\n",
      "Epoch 20/60\n",
      "8000/8000 [==============================] - 2s 224us/step - loss: 0.0124 - binary_accuracy: 0.9953 - val_loss: 0.0432 - val_binary_accuracy: 0.9870\n",
      "Epoch 21/60\n",
      "8000/8000 [==============================] - 2s 220us/step - loss: 0.0109 - binary_accuracy: 0.9965 - val_loss: 0.0397 - val_binary_accuracy: 0.9870\n",
      "Epoch 22/60\n",
      "8000/8000 [==============================] - 2s 225us/step - loss: 0.0113 - binary_accuracy: 0.9964 - val_loss: 0.0431 - val_binary_accuracy: 0.9870\n",
      "Epoch 23/60\n",
      "8000/8000 [==============================] - 2s 225us/step - loss: 0.0110 - binary_accuracy: 0.9969 - val_loss: 0.0367 - val_binary_accuracy: 0.9865\n",
      "Epoch 24/60\n",
      "8000/8000 [==============================] - 2s 217us/step - loss: 0.0126 - binary_accuracy: 0.9954 - val_loss: 0.0610 - val_binary_accuracy: 0.9860\n",
      "Epoch 25/60\n",
      "8000/8000 [==============================] - 2s 209us/step - loss: 0.0091 - binary_accuracy: 0.9976 - val_loss: 0.0608 - val_binary_accuracy: 0.9865\n",
      "Epoch 26/60\n",
      "8000/8000 [==============================] - 2s 216us/step - loss: 0.0110 - binary_accuracy: 0.9959 - val_loss: 0.0462 - val_binary_accuracy: 0.9875\n",
      "Epoch 27/60\n",
      "8000/8000 [==============================] - 2s 206us/step - loss: 0.0077 - binary_accuracy: 0.9981 - val_loss: 0.0402 - val_binary_accuracy: 0.9875\n",
      "Epoch 28/60\n",
      "8000/8000 [==============================] - 2s 214us/step - loss: 0.0080 - binary_accuracy: 0.9971 - val_loss: 0.0545 - val_binary_accuracy: 0.9870\n",
      "Epoch 29/60\n",
      "8000/8000 [==============================] - 2s 205us/step - loss: 0.0085 - binary_accuracy: 0.9981 - val_loss: 0.0470 - val_binary_accuracy: 0.9870\n",
      "Epoch 30/60\n",
      "8000/8000 [==============================] - 2s 204us/step - loss: 0.0076 - binary_accuracy: 0.9978 - val_loss: 0.0429 - val_binary_accuracy: 0.9875\n",
      "Epoch 31/60\n",
      "8000/8000 [==============================] - 2s 197us/step - loss: 0.0070 - binary_accuracy: 0.9979 - val_loss: 0.0497 - val_binary_accuracy: 0.9875\n",
      "Epoch 32/60\n",
      "8000/8000 [==============================] - 2s 216us/step - loss: 0.0069 - binary_accuracy: 0.9976 - val_loss: 0.0540 - val_binary_accuracy: 0.9875\n",
      "Epoch 33/60\n",
      "8000/8000 [==============================] - 2s 200us/step - loss: 0.0056 - binary_accuracy: 0.9985 - val_loss: 0.0460 - val_binary_accuracy: 0.9875\n",
      "Epoch 34/60\n",
      "8000/8000 [==============================] - 2s 206us/step - loss: 0.0056 - binary_accuracy: 0.9983 - val_loss: 0.0548 - val_binary_accuracy: 0.9875\n",
      "Epoch 35/60\n",
      "8000/8000 [==============================] - 2s 208us/step - loss: 0.0059 - binary_accuracy: 0.9983 - val_loss: 0.0472 - val_binary_accuracy: 0.9870\n",
      "Epoch 36/60\n",
      "8000/8000 [==============================] - 2s 203us/step - loss: 0.0063 - binary_accuracy: 0.9980 - val_loss: 0.0581 - val_binary_accuracy: 0.9875\n",
      "Epoch 37/60\n",
      "8000/8000 [==============================] - 2s 192us/step - loss: 0.0058 - binary_accuracy: 0.9981 - val_loss: 0.0586 - val_binary_accuracy: 0.9875\n",
      "Epoch 38/60\n",
      "8000/8000 [==============================] - 1s 187us/step - loss: 0.0057 - binary_accuracy: 0.9980 - val_loss: 0.0532 - val_binary_accuracy: 0.9870\n",
      "Epoch 39/60\n",
      "8000/8000 [==============================] - 2s 194us/step - loss: 0.0040 - binary_accuracy: 0.9991 - val_loss: 0.0463 - val_binary_accuracy: 0.9875\n",
      "Epoch 40/60\n",
      "8000/8000 [==============================] - 2s 199us/step - loss: 0.0040 - binary_accuracy: 0.9993 - val_loss: 0.0411 - val_binary_accuracy: 0.9870\n",
      "Epoch 41/60\n",
      "8000/8000 [==============================] - 2s 209us/step - loss: 0.0047 - binary_accuracy: 0.9989 - val_loss: 0.0505 - val_binary_accuracy: 0.9875\n",
      "Epoch 42/60\n",
      "8000/8000 [==============================] - 2s 189us/step - loss: 0.0043 - binary_accuracy: 0.9990 - val_loss: 0.0568 - val_binary_accuracy: 0.9875\n",
      "Epoch 43/60\n",
      "8000/8000 [==============================] - 2s 188us/step - loss: 0.0050 - binary_accuracy: 0.9984 - val_loss: 0.0615 - val_binary_accuracy: 0.9875\n",
      "Epoch 44/60\n",
      "8000/8000 [==============================] - 1s 182us/step - loss: 0.0042 - binary_accuracy: 0.9990 - val_loss: 0.0584 - val_binary_accuracy: 0.9875\n",
      "Epoch 45/60\n",
      "8000/8000 [==============================] - 2s 207us/step - loss: 0.0045 - binary_accuracy: 0.9984 - val_loss: 0.0631 - val_binary_accuracy: 0.9870\n",
      "Epoch 46/60\n",
      "8000/8000 [==============================] - 2s 191us/step - loss: 0.0041 - binary_accuracy: 0.9988 - val_loss: 0.0576 - val_binary_accuracy: 0.9875\n",
      "Epoch 47/60\n",
      "8000/8000 [==============================] - 2s 194us/step - loss: 0.0045 - binary_accuracy: 0.9981 - val_loss: 0.0731 - val_binary_accuracy: 0.9870\n",
      "Epoch 48/60\n",
      "8000/8000 [==============================] - 1s 182us/step - loss: 0.0046 - binary_accuracy: 0.9985 - val_loss: 0.0594 - val_binary_accuracy: 0.9870\n",
      "Epoch 49/60\n",
      "8000/8000 [==============================] - 1s 180us/step - loss: 0.0036 - binary_accuracy: 0.9990 - val_loss: 0.0527 - val_binary_accuracy: 0.9875\n",
      "Epoch 50/60\n",
      "8000/8000 [==============================] - 1s 184us/step - loss: 0.0030 - binary_accuracy: 0.9990 - val_loss: 0.0575 - val_binary_accuracy: 0.9880\n",
      "Epoch 51/60\n",
      "8000/8000 [==============================] - ETA: 0s - loss: 0.0027 - binary_accuracy: 0.999 - 2s 210us/step - loss: 0.0027 - binary_accuracy: 0.9993 - val_loss: 0.0639 - val_binary_accuracy: 0.9875\n",
      "Epoch 52/60\n",
      "8000/8000 [==============================] - 2s 215us/step - loss: 0.0028 - binary_accuracy: 0.9994 - val_loss: 0.0583 - val_binary_accuracy: 0.9860\n",
      "Epoch 53/60\n",
      "8000/8000 [==============================] - 2s 217us/step - loss: 0.0031 - binary_accuracy: 0.9993 - val_loss: 0.0629 - val_binary_accuracy: 0.9880\n",
      "Epoch 54/60\n",
      "8000/8000 [==============================] - 2s 217us/step - loss: 0.0037 - binary_accuracy: 0.9990 - val_loss: 0.0604 - val_binary_accuracy: 0.9880\n",
      "Epoch 55/60\n",
      "8000/8000 [==============================] - 2s 218us/step - loss: 0.0025 - binary_accuracy: 0.9993 - val_loss: 0.0658 - val_binary_accuracy: 0.9875\n",
      "Epoch 56/60\n",
      "8000/8000 [==============================] - 2s 221us/step - loss: 0.0031 - binary_accuracy: 0.9994 - val_loss: 0.0747 - val_binary_accuracy: 0.9870\n",
      "Epoch 57/60\n",
      "8000/8000 [==============================] - 2s 216us/step - loss: 0.0024 - binary_accuracy: 0.9995 - val_loss: 0.0706 - val_binary_accuracy: 0.9870\n",
      "Epoch 58/60\n",
      "8000/8000 [==============================] - 2s 218us/step - loss: 0.0027 - binary_accuracy: 0.9990 - val_loss: 0.0535 - val_binary_accuracy: 0.9875\n",
      "Epoch 59/60\n",
      "8000/8000 [==============================] - 2s 272us/step - loss: 0.0033 - binary_accuracy: 0.9991 - val_loss: 0.0560 - val_binary_accuracy: 0.9860\n",
      "Epoch 60/60\n",
      "8000/8000 [==============================] - 3s 315us/step - loss: 0.0025 - binary_accuracy: 0.9995 - val_loss: 0.0711 - val_binary_accuracy: 0.9870 binary_accurac\n"
     ]
    }
   ],
   "source": [
    "# call back function\n",
    "log_history = LogHistory()\n",
    "\n",
    "# the adam optimizer\n",
    "adam = optimizers.Adam(lr=0.001,\n",
    "                       beta_1=0.9,\n",
    "                       beta_2=0.999,\n",
    "                       epsilon=1e-8)\n",
    "\n",
    "model.compile(loss='binary_crossentropy',\n",
    "              optimizer=adam,\n",
    "              metrics=['binary_accuracy'])\n",
    "\n",
    "training_log = model.fit(training_input,\n",
    "                         training_labels,\n",
    "                         batch_size=50,\n",
    "                         epochs=60,\n",
    "                         shuffle=True,\n",
    "                         validation_data=(validation_input, validation_labels),\n",
    "                         callbacks=[log_history])\n"
   ]
  },
  {
   "cell_type": "code",
   "execution_count": 9,
   "metadata": {},
   "outputs": [
    {
     "data": {
      "image/png": "[encoded data removed]",
      "text/plain": [
       "<Figure size 432x288 with 2 Axes>"
      ]
     },
     "metadata": {},
     "output_type": "display_data"
    }
   ],
   "source": [
    "# plotting history for every batch\n",
    "fig, ax1 = plt.subplots()\n",
    "ax1.plot(training_log.history['loss'], '--', color='b', label='training loss')\n",
    "ax1.plot(training_log.history['val_loss'], color='b', label='validation loss')\n",
    "ax1.set_xlabel('epochs')\n",
    "ax1.set_ylabel('loss', color='b')\n",
    "ax1.tick_params('y', colors='b')\n",
    "ax1.legend(loc='upper left')\n",
    "ax2 = ax1.twinx()\n",
    "ax2.plot(training_log.history['binary_accuracy'], '--', color='r', label='training accuracy')\n",
    "ax2.plot(training_log.history['val_binary_accuracy'], color='r', label='validation accuracy')\n",
    "ax2.set_ylabel('accuracy (%)', color='r')\n",
    "ax2.tick_params('y', colors='r')\n",
    "ax2.legend(loc='center right')\n",
    "plt.show()\n"
   ]
  },
  {
   "cell_type": "markdown",
   "metadata": {},
   "source": [
    "The distribution has skew in the sample distribution (specifically, toward the majority class/class 1 where the sum of 30 digits being >= 100). So, when the network learns, it considers the majority class more heavily than the minority class/class 0(series sum < 100), and adjusts accordingly. If we view class 1 as positive and class 0 as negative, it will have higher sensitivty than specificity. The network could learn to only output class 1 and it would still very high accuracy results! So, we could say the network isn't discriminiative. Rather, its accuracy is a measure of the underlying class distribution.\n",
    "\n",
    "To prove this we could compare accuracy of the network on each individual class. Surely, the accuracy for the majority class will be better than that of the minority class. \n",
    "\n",
    "As a solution to this we could create synthetic examples (made by duplicating or tranforming data in the minority class) to match the number of examples majority class, thus oversampling the minority class. Or, we could undersample the majority class, and train the network on all *n* series in the minority class and only *n* series from the majority class, taken at random.\n",
    "\n",
    "This question has made us consider a very common problem in deep learning: the problem of *imbalanced data*."
   ]
  }
 ],
 "metadata": {
  "kernelspec": {
   "display_name": "Python 3",
   "language": "python",
   "name": "python3"
  },
  "language_info": {
   "codemirror_mode": {
    "name": "ipython",
    "version": 3
   },
   "file_extension": ".py",
   "mimetype": "text/x-python",
   "name": "python",
   "nbconvert_exporter": "python",
   "pygments_lexer": "ipython3",
   "version": "3.8.2"
  }
 },
 "nbformat": 4,
 "nbformat_minor": 1
}
